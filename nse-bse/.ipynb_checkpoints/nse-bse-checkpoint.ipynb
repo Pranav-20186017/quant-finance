{
 "cells": [
  {
   "cell_type": "code",
   "execution_count": 1,
   "id": "198759ff-542e-4fdd-85d5-52ca3840d474",
   "metadata": {},
   "outputs": [],
   "source": [
    "import pandas as pd\n",
    "import numpy as np\n",
    "import matplotlib.pyplot as plt"
   ]
  },
  {
   "cell_type": "code",
   "execution_count": 2,
   "id": "7faf3dd4-c757-43ed-ace5-383e9435f957",
   "metadata": {},
   "outputs": [],
   "source": [
    "nse = pd.read_csv(\"NSE.csv\",low_memory=False)"
   ]
  },
  {
   "cell_type": "code",
   "execution_count": 3,
   "id": "2087afe6-dea5-4785-9786-37ea3068269f",
   "metadata": {},
   "outputs": [
    {
     "data": {
      "text/plain": [
       "SYMBOL              object\n",
       "NAME OF COMPANY     object\n",
       " SERIES             object\n",
       " DATE OF LISTING    object\n",
       " PAID UP VALUE       int64\n",
       " MARKET LOT          int64\n",
       " ISIN NUMBER        object\n",
       " FACE VALUE          int64\n",
       "dtype: object"
      ]
     },
     "execution_count": 3,
     "metadata": {},
     "output_type": "execute_result"
    }
   ],
   "source": [
    "nse.dtypes"
   ]
  },
  {
   "cell_type": "code",
   "execution_count": 8,
   "id": "4547a0da-c4e5-449f-8612-8c971302dc1d",
   "metadata": {},
   "outputs": [
    {
     "data": {
      "text/plain": [
       "0       INE144J01027\n",
       "1       INE253B01015\n",
       "2       INE466L01038\n",
       "3       INE748C01038\n",
       "4       INE470A01017\n",
       "            ...     \n",
       "1940    INE358U01012\n",
       "1941    INE840M01016\n",
       "1942    INE217A01012\n",
       "1943    INE010B01027\n",
       "1944    INE768C01010\n",
       "Name:  ISIN NUMBER, Length: 1945, dtype: object"
      ]
     },
     "execution_count": 8,
     "metadata": {},
     "output_type": "execute_result"
    }
   ],
   "source": [
    "nse[' ISIN NUMBER']"
   ]
  },
  {
   "cell_type": "code",
   "execution_count": 15,
   "id": "09d6537e-ef21-44dd-9adf-6d9e6cf18665",
   "metadata": {},
   "outputs": [],
   "source": [
    "bse = pd.read_csv('BSE.csv')"
   ]
  },
  {
   "cell_type": "code",
   "execution_count": 16,
   "id": "0aba9a7f-4c53-4d19-9b1f-3fcbbc94d16a",
   "metadata": {},
   "outputs": [
    {
     "data": {
      "text/html": [
       "<div>\n",
       "<style scoped>\n",
       "    .dataframe tbody tr th:only-of-type {\n",
       "        vertical-align: middle;\n",
       "    }\n",
       "\n",
       "    .dataframe tbody tr th {\n",
       "        vertical-align: top;\n",
       "    }\n",
       "\n",
       "    .dataframe thead th {\n",
       "        text-align: right;\n",
       "    }\n",
       "</style>\n",
       "<table border=\"1\" class=\"dataframe\">\n",
       "  <thead>\n",
       "    <tr style=\"text-align: right;\">\n",
       "      <th></th>\n",
       "      <th>Security Code</th>\n",
       "      <th>Issuer Name</th>\n",
       "      <th>Security Id</th>\n",
       "      <th>Security Name</th>\n",
       "      <th>Status</th>\n",
       "      <th>Group</th>\n",
       "      <th>Face Value</th>\n",
       "      <th>ISIN No</th>\n",
       "      <th>Industry</th>\n",
       "      <th>Instrument</th>\n",
       "      <th>Sector Name</th>\n",
       "      <th>Industry New Name</th>\n",
       "      <th>Igroup Name</th>\n",
       "      <th>ISubgroup Name</th>\n",
       "    </tr>\n",
       "  </thead>\n",
       "  <tbody>\n",
       "    <tr>\n",
       "      <th>500002</th>\n",
       "      <td>ABB India Limited</td>\n",
       "      <td>ABB</td>\n",
       "      <td>ABB India Limited</td>\n",
       "      <td>Active</td>\n",
       "      <td>A</td>\n",
       "      <td>2.0</td>\n",
       "      <td>INE117A01022</td>\n",
       "      <td>Heavy Electrical Equipment</td>\n",
       "      <td>Equity</td>\n",
       "      <td>Industrials</td>\n",
       "      <td>Capital Goods</td>\n",
       "      <td>Electrical Equipment</td>\n",
       "      <td>Heavy Electrical Equipment</td>\n",
       "      <td>NaN</td>\n",
       "    </tr>\n",
       "    <tr>\n",
       "      <th>500003</th>\n",
       "      <td>Aegis Logistics Ltd.</td>\n",
       "      <td>AEGISLOG</td>\n",
       "      <td>AEGIS LOGISTICS LTD.</td>\n",
       "      <td>Active</td>\n",
       "      <td>A</td>\n",
       "      <td>1.0</td>\n",
       "      <td>INE208C01025</td>\n",
       "      <td>Trading - Gas</td>\n",
       "      <td>Equity</td>\n",
       "      <td>Energy</td>\n",
       "      <td>Oil, Gas &amp; Consumable Fuels</td>\n",
       "      <td>Gas</td>\n",
       "      <td>Trading - Gas</td>\n",
       "      <td>NaN</td>\n",
       "    </tr>\n",
       "    <tr>\n",
       "      <th>500008</th>\n",
       "      <td>Amara Raja Energy &amp; Mobility Limited</td>\n",
       "      <td>ARE&amp;M</td>\n",
       "      <td>Amara Raja Energy &amp; Mobility Ltd</td>\n",
       "      <td>Active</td>\n",
       "      <td>A</td>\n",
       "      <td>1.0</td>\n",
       "      <td>INE885A01032</td>\n",
       "      <td>Auto Components &amp; Equipments</td>\n",
       "      <td>Equity</td>\n",
       "      <td>Consumer Discretionary</td>\n",
       "      <td>Automobile and Auto Components</td>\n",
       "      <td>Auto Components</td>\n",
       "      <td>Auto Components &amp; Equipments</td>\n",
       "      <td>NaN</td>\n",
       "    </tr>\n",
       "    <tr>\n",
       "      <th>500009</th>\n",
       "      <td>Ambalal Sarabhai Enterprise Ltd.,</td>\n",
       "      <td>AMBALALSA</td>\n",
       "      <td>AMBALAL SARABHAI ENTERPRISES LTD.</td>\n",
       "      <td>Active</td>\n",
       "      <td>XT</td>\n",
       "      <td>10.0</td>\n",
       "      <td>INE432A01017</td>\n",
       "      <td>Pharmaceuticals</td>\n",
       "      <td>Equity</td>\n",
       "      <td>Healthcare</td>\n",
       "      <td>Healthcare</td>\n",
       "      <td>Pharmaceuticals &amp; Biotechnology</td>\n",
       "      <td>Pharmaceuticals</td>\n",
       "      <td>NaN</td>\n",
       "    </tr>\n",
       "    <tr>\n",
       "      <th>500012</th>\n",
       "      <td>Andhra Petrochemicals Ltd.,</td>\n",
       "      <td>ANDHRAPET</td>\n",
       "      <td>ANDHRA PETROCHEMICALS LTD.</td>\n",
       "      <td>Active</td>\n",
       "      <td>X</td>\n",
       "      <td>10.0</td>\n",
       "      <td>INE714B01016</td>\n",
       "      <td>Commodity Chemicals</td>\n",
       "      <td>Equity</td>\n",
       "      <td>Commodities</td>\n",
       "      <td>Chemicals</td>\n",
       "      <td>Chemicals &amp; Petrochemicals</td>\n",
       "      <td>Commodity Chemicals</td>\n",
       "      <td>NaN</td>\n",
       "    </tr>\n",
       "  </tbody>\n",
       "</table>\n",
       "</div>"
      ],
      "text/plain": [
       "                               Security Code Issuer Name  \\\n",
       "500002                     ABB India Limited         ABB   \n",
       "500003                  Aegis Logistics Ltd.    AEGISLOG   \n",
       "500008  Amara Raja Energy & Mobility Limited       ARE&M   \n",
       "500009     Ambalal Sarabhai Enterprise Ltd.,   AMBALALSA   \n",
       "500012           Andhra Petrochemicals Ltd.,   ANDHRAPET   \n",
       "\n",
       "                              Security Id Security Name Status  Group  \\\n",
       "500002                  ABB India Limited        Active     A     2.0   \n",
       "500003               AEGIS LOGISTICS LTD.        Active     A     1.0   \n",
       "500008   Amara Raja Energy & Mobility Ltd        Active     A     1.0   \n",
       "500009  AMBALAL SARABHAI ENTERPRISES LTD.        Active     XT   10.0   \n",
       "500012         ANDHRA PETROCHEMICALS LTD.        Active     X    10.0   \n",
       "\n",
       "          Face Value                       ISIN No Industry  \\\n",
       "500002  INE117A01022    Heavy Electrical Equipment   Equity   \n",
       "500003  INE208C01025                 Trading - Gas   Equity   \n",
       "500008  INE885A01032  Auto Components & Equipments   Equity   \n",
       "500009  INE432A01017               Pharmaceuticals   Equity   \n",
       "500012  INE714B01016           Commodity Chemicals   Equity   \n",
       "\n",
       "                    Instrument                     Sector Name  \\\n",
       "500002             Industrials                   Capital Goods   \n",
       "500003                  Energy     Oil, Gas & Consumable Fuels   \n",
       "500008  Consumer Discretionary  Automobile and Auto Components   \n",
       "500009              Healthcare                      Healthcare   \n",
       "500012             Commodities                       Chemicals   \n",
       "\n",
       "                      Industry New Name                   Igroup Name  \\\n",
       "500002             Electrical Equipment    Heavy Electrical Equipment   \n",
       "500003                              Gas                 Trading - Gas   \n",
       "500008                  Auto Components  Auto Components & Equipments   \n",
       "500009  Pharmaceuticals & Biotechnology               Pharmaceuticals   \n",
       "500012       Chemicals & Petrochemicals           Commodity Chemicals   \n",
       "\n",
       "        ISubgroup Name  \n",
       "500002             NaN  \n",
       "500003             NaN  \n",
       "500008             NaN  \n",
       "500009             NaN  \n",
       "500012             NaN  "
      ]
     },
     "execution_count": 16,
     "metadata": {},
     "output_type": "execute_result"
    }
   ],
   "source": [
    "bse.head()"
   ]
  },
  {
   "cell_type": "code",
   "execution_count": 18,
   "id": "751b87b3-4561-4ad3-b197-0677c9a4af98",
   "metadata": {},
   "outputs": [
    {
     "data": {
      "text/plain": [
       "0       INE236Y01012\n",
       "1       INE119A01028\n",
       "2       INE137C01018\n",
       "3       INE999B01013\n",
       "4       INE874F01027\n",
       "            ...     \n",
       "1807    INE802B01019\n",
       "1808    INE786F01031\n",
       "1809    INE405C01035\n",
       "1810    INE753K01015\n",
       "1811    INE262A01018\n",
       "Length: 1812, dtype: object"
      ]
     },
     "execution_count": 18,
     "metadata": {},
     "output_type": "execute_result"
    }
   ],
   "source": [
    "intersection = pd.Series(list(set(nse[' ISIN NUMBER']).intersection(set(bse['Face Value']))))\n",
    "intersection"
   ]
  },
  {
   "cell_type": "code",
   "execution_count": 22,
   "id": "597e01d0-2875-47e0-afac-c4f95e5df411",
   "metadata": {},
   "outputs": [
    {
     "ename": "ValueError",
     "evalue": "Can only compare identically-labeled Series objects",
     "output_type": "error",
     "traceback": [
      "\u001b[1;31m---------------------------------------------------------------------------\u001b[0m",
      "\u001b[1;31mValueError\u001b[0m                                Traceback (most recent call last)",
      "Cell \u001b[1;32mIn[22], line 1\u001b[0m\n\u001b[1;32m----> 1\u001b[0m common \u001b[38;5;241m=\u001b[39m nse[\u001b[43mnse\u001b[49m\u001b[43m[\u001b[49m\u001b[38;5;124;43m'\u001b[39;49m\u001b[38;5;124;43m ISIN NUMBER\u001b[39;49m\u001b[38;5;124;43m'\u001b[39;49m\u001b[43m]\u001b[49m\u001b[43m \u001b[49m\u001b[38;5;241;43m==\u001b[39;49m\u001b[43m \u001b[49m\u001b[43mintersection\u001b[49m]\n",
      "File \u001b[1;32m~\\AppData\\Local\\Programs\\Python\\Python311\\Lib\\site-packages\\pandas\\core\\ops\\common.py:81\u001b[0m, in \u001b[0;36m_unpack_zerodim_and_defer.<locals>.new_method\u001b[1;34m(self, other)\u001b[0m\n\u001b[0;32m     77\u001b[0m             \u001b[38;5;28;01mreturn\u001b[39;00m \u001b[38;5;28mNotImplemented\u001b[39m\n\u001b[0;32m     79\u001b[0m other \u001b[38;5;241m=\u001b[39m item_from_zerodim(other)\n\u001b[1;32m---> 81\u001b[0m \u001b[38;5;28;01mreturn\u001b[39;00m \u001b[43mmethod\u001b[49m\u001b[43m(\u001b[49m\u001b[38;5;28;43mself\u001b[39;49m\u001b[43m,\u001b[49m\u001b[43m \u001b[49m\u001b[43mother\u001b[49m\u001b[43m)\u001b[49m\n",
      "File \u001b[1;32m~\\AppData\\Local\\Programs\\Python\\Python311\\Lib\\site-packages\\pandas\\core\\arraylike.py:40\u001b[0m, in \u001b[0;36mOpsMixin.__eq__\u001b[1;34m(self, other)\u001b[0m\n\u001b[0;32m     38\u001b[0m \u001b[38;5;129m@unpack_zerodim_and_defer\u001b[39m(\u001b[38;5;124m\"\u001b[39m\u001b[38;5;124m__eq__\u001b[39m\u001b[38;5;124m\"\u001b[39m)\n\u001b[0;32m     39\u001b[0m \u001b[38;5;28;01mdef\u001b[39;00m \u001b[38;5;21m__eq__\u001b[39m(\u001b[38;5;28mself\u001b[39m, other):\n\u001b[1;32m---> 40\u001b[0m     \u001b[38;5;28;01mreturn\u001b[39;00m \u001b[38;5;28;43mself\u001b[39;49m\u001b[38;5;241;43m.\u001b[39;49m\u001b[43m_cmp_method\u001b[49m\u001b[43m(\u001b[49m\u001b[43mother\u001b[49m\u001b[43m,\u001b[49m\u001b[43m \u001b[49m\u001b[43moperator\u001b[49m\u001b[38;5;241;43m.\u001b[39;49m\u001b[43meq\u001b[49m\u001b[43m)\u001b[49m\n",
      "File \u001b[1;32m~\\AppData\\Local\\Programs\\Python\\Python311\\Lib\\site-packages\\pandas\\core\\series.py:6090\u001b[0m, in \u001b[0;36mSeries._cmp_method\u001b[1;34m(self, other, op)\u001b[0m\n\u001b[0;32m   6087\u001b[0m res_name \u001b[38;5;241m=\u001b[39m ops\u001b[38;5;241m.\u001b[39mget_op_result_name(\u001b[38;5;28mself\u001b[39m, other)\n\u001b[0;32m   6089\u001b[0m \u001b[38;5;28;01mif\u001b[39;00m \u001b[38;5;28misinstance\u001b[39m(other, Series) \u001b[38;5;129;01mand\u001b[39;00m \u001b[38;5;129;01mnot\u001b[39;00m \u001b[38;5;28mself\u001b[39m\u001b[38;5;241m.\u001b[39m_indexed_same(other):\n\u001b[1;32m-> 6090\u001b[0m     \u001b[38;5;28;01mraise\u001b[39;00m \u001b[38;5;167;01mValueError\u001b[39;00m(\u001b[38;5;124m\"\u001b[39m\u001b[38;5;124mCan only compare identically-labeled Series objects\u001b[39m\u001b[38;5;124m\"\u001b[39m)\n\u001b[0;32m   6092\u001b[0m lvalues \u001b[38;5;241m=\u001b[39m \u001b[38;5;28mself\u001b[39m\u001b[38;5;241m.\u001b[39m_values\n\u001b[0;32m   6093\u001b[0m rvalues \u001b[38;5;241m=\u001b[39m extract_array(other, extract_numpy\u001b[38;5;241m=\u001b[39m\u001b[38;5;28;01mTrue\u001b[39;00m, extract_range\u001b[38;5;241m=\u001b[39m\u001b[38;5;28;01mTrue\u001b[39;00m)\n",
      "\u001b[1;31mValueError\u001b[0m: Can only compare identically-labeled Series objects"
     ]
    }
   ],
   "source": [
    "common = nse[nse[' ISIN NUMBER'] == intersection]"
   ]
  }
 ],
 "metadata": {
  "kernelspec": {
   "display_name": "Python 3 (ipykernel)",
   "language": "python",
   "name": "python3"
  },
  "language_info": {
   "codemirror_mode": {
    "name": "ipython",
    "version": 3
   },
   "file_extension": ".py",
   "mimetype": "text/x-python",
   "name": "python",
   "nbconvert_exporter": "python",
   "pygments_lexer": "ipython3",
   "version": "3.11.1"
  }
 },
 "nbformat": 4,
 "nbformat_minor": 5
}
