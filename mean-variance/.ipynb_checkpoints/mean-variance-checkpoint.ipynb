{
 "cells": [
  {
   "cell_type": "code",
   "execution_count": 1,
   "id": "d10c4748-1334-454d-a77a-b17f74d72457",
   "metadata": {},
   "outputs": [],
   "source": [
    "import pandas as pd\n",
    "import matplotlib.pyplot as plt\n",
    "import numpy as np\n",
    "from statistics import mean\n",
    "import statistics\n",
    "import math\n",
    "from numpy.linalg import multi_dot"
   ]
  },
  {
   "cell_type": "code",
   "execution_count": 2,
   "id": "299d0c65-e89f-4ad6-8d7b-b8b640947b77",
   "metadata": {},
   "outputs": [
    {
     "data": {
      "text/plain": [
       "(0       962.950012\n",
       " 1       971.950012\n",
       " 2       966.799988\n",
       " 3       954.750000\n",
       " 4       964.700012\n",
       "           ...     \n",
       " 120    1124.900024\n",
       " 121    1114.349976\n",
       " 122    1115.349976\n",
       " 123    1109.599976\n",
       " 124    1105.300049\n",
       " Name: Close, Length: 125, dtype: float64,\n",
       " 0      2724.050049\n",
       " 1      2798.750000\n",
       " 2      2714.250000\n",
       " 3      2662.899902\n",
       " 4      2628.100098\n",
       "           ...     \n",
       " 120    2723.300049\n",
       " 121    2722.149902\n",
       " 122    2682.449951\n",
       " 123    2690.199951\n",
       " 124    2650.500000\n",
       " Name: Close, Length: 125, dtype: float64)"
      ]
     },
     "execution_count": 2,
     "metadata": {},
     "output_type": "execute_result"
    }
   ],
   "source": [
    "cipla = pd.read_csv('CIPLA.NS.csv')\n",
    "cipla = cipla['Close']\n",
    "reliance = pd.read_csv('RELIANCE.NS.csv')\n",
    "reliance = reliance['Close']\n",
    "cipla,reliance"
   ]
  },
  {
   "cell_type": "code",
   "execution_count": 4,
   "id": "264b1a61-7177-47d8-b1ba-77cfd680dab7",
   "metadata": {},
   "outputs": [],
   "source": [
    "cipla_rt = []\n",
    "for k in range(cipla.count() - 1):\n",
    "    if k == 0:\n",
    "        cipla_rt.append(0)\n",
    "    else:\n",
    "        diff = (cipla[k] / cipla[k - 1]) - 1\n",
    "        cipla_rt.append(diff)"
   ]
  },
  {
   "cell_type": "code",
   "execution_count": 5,
   "id": "64a92183-e7ef-4471-ab7b-6c3383e17667",
   "metadata": {},
   "outputs": [
    {
     "data": {
      "text/plain": [
       "[0,\n",
       " 0.009346279544986347,\n",
       " -0.005298651099764573,\n",
       " -0.012463785839434638,\n",
       " 0.010421588897617129,\n",
       " 0.0042500009837254105,\n",
       " -0.02874687896878869,\n",
       " -0.027844212408597135,\n",
       " 0.012134436731347398,\n",
       " 0.013339133034659278,\n",
       " -0.02270303530970319,\n",
       " 0.017940834954106144,\n",
       " 0.0003750318840742839,\n",
       " -0.001445899092480718,\n",
       " 0.013675122355556235,\n",
       " 0.002698178039103105,\n",
       " -0.032132128136789895,\n",
       " 0.034997792826021,\n",
       " -0.01964601731354909,\n",
       " 0.0072529950313524605,\n",
       " 0.008747548314549602,\n",
       " -0.010945406369172739,\n",
       " 0.00021385939588336456,\n",
       " 0.012934925271025577,\n",
       " -0.012453156191692072,\n",
       " 0.018808416777985615,\n",
       " -0.002307601673448789,\n",
       " 0.015665209087982968,\n",
       " 0.0013456736360935029,\n",
       " -0.006926088971133559,\n",
       " 0.021704029021082816,\n",
       " -0.013245033112582738,\n",
       " 0.003717063500258133,\n",
       " -0.012653007204682765,\n",
       " -0.004271698323880302,\n",
       " 0.01920056060436659,\n",
       " -0.006775808306873077,\n",
       " 0.010284781514892316,\n",
       " 0.02777774026328439,\n",
       " -0.00034839082592275084,\n",
       " 0.007617968441131495,\n",
       " 0.03226765308536206,\n",
       " -0.009861224509334576,\n",
       " -0.0044961344230426414,\n",
       " 0.008547352320120272,\n",
       " 4.819954847290475e-05,\n",
       " -0.01083397509628714,\n",
       " 0.007204424696581446,\n",
       " -0.008506160729977341,\n",
       " 0.006288034121374686,\n",
       " -0.0020344653164976467,\n",
       " -0.007329374017964185,\n",
       " 0.017700881338233554,\n",
       " -0.0031711410405925733,\n",
       " -0.01118231673820369,\n",
       " -0.004825748964172538,\n",
       " -0.003428683425885759,\n",
       " 0.020790291211524092,\n",
       " -0.014877896604571172,\n",
       " -0.007233650048875884,\n",
       " 0.009895675696628858,\n",
       " 0.014819823179763159,\n",
       " 0.010232045199182416,\n",
       " 0.004327198288159639,\n",
       " 0.002130580839545093,\n",
       " 0.006094633564549756,\n",
       " -0.005494224935430836,\n",
       " 0.0009915260895301259,\n",
       " -0.025142604115276912,\n",
       " 0.009871238281534245,\n",
       " -0.006899809295639714,\n",
       " 0.054038403311896355,\n",
       " -0.0200494589559429,\n",
       " -0.007940956473670657,\n",
       " 0.005838545870491485,\n",
       " -0.002293747827965431,\n",
       " 0.031013865955677122,\n",
       " -0.0014106917895002624,\n",
       " 0.01704411574619802,\n",
       " -0.0008065824433014512,\n",
       " 0.014171083630999615,\n",
       " 0.012292747291620554,\n",
       " -0.008911084424176763,\n",
       " -0.003481820415716208,\n",
       " -0.010305195931003985,\n",
       " -0.007820530176245954,\n",
       " -0.001486375133477047,\n",
       " -0.004330305572813331,\n",
       " 0.0047569427679368115,\n",
       " -0.0006763459137593131,\n",
       " 0.015972523229399904,\n",
       " -0.0034196172510287948,\n",
       " 0.013190774509803882,\n",
       " -0.001803350555626082,\n",
       " 0.010707225380039764,\n",
       " 0.007847240222919272,\n",
       " 0.008651267231049031,\n",
       " -0.009177521897023255,\n",
       " 0.010561005468740614,\n",
       " 0.005139626414809806,\n",
       " -0.012058994128672396,\n",
       " 0.0033210920854001014,\n",
       " -0.014616112415773985,\n",
       " -0.013262326427271431,\n",
       " -0.0013263771935334567,\n",
       " -0.006286501548719681,\n",
       " -0.0008019468597563195,\n",
       " 0.0072230924082805625,\n",
       " -0.009517485613103172,\n",
       " 0.002189900335195505,\n",
       " -0.0015161889710072485,\n",
       " -0.015274654756587736,\n",
       " 0.0018595128405041184,\n",
       " -0.0003168771927448688,\n",
       " 0.003532310555905749,\n",
       " -0.011416989169675151,\n",
       " 0.00912950218570141,\n",
       " -0.003256865317016966,\n",
       " 0.01760837213523936,\n",
       " 0.016500913886614788,\n",
       " -0.012942569814748617,\n",
       " -0.009378653902491263,\n",
       " 0.0008973841446020536,\n",
       " -0.00515533251779976]"
      ]
     },
     "execution_count": 5,
     "metadata": {},
     "output_type": "execute_result"
    }
   ],
   "source": [
    "cipla_rt"
   ]
  },
  {
   "cell_type": "code",
   "execution_count": 6,
   "id": "1fa90bcc-7155-42ed-b20e-d37e8c7da17e",
   "metadata": {},
   "outputs": [],
   "source": [
    "reliance_rt = []\n",
    "for k in range(reliance.count() - 1):\n",
    "    if k == 0:\n",
    "        reliance_rt.append(0)\n",
    "    else:\n",
    "        reliance_rt.append( (reliance[k] / reliance[k - 1]) - 1)"
   ]
  },
  {
   "cell_type": "code",
   "execution_count": 7,
   "id": "897c6c5a-433a-4d36-8126-6ec255537aa3",
   "metadata": {},
   "outputs": [],
   "source": [
    "avg_cip = mean(cipla_rt)\n",
    "avg_rel = mean(reliance_rt)"
   ]
  },
  {
   "cell_type": "code",
   "execution_count": 8,
   "id": "fec5d5cf-4e5a-43aa-aac1-21eb3e583e5b",
   "metadata": {},
   "outputs": [],
   "source": [
    "rt_1 = [x- avg_cip for x in cipla_rt]\n",
    "rt_2 = [x - avg_rel for x in reliance_rt]"
   ]
  },
  {
   "cell_type": "code",
   "execution_count": 9,
   "id": "80b7dd86-5baa-44fb-a7aa-872772df5e80",
   "metadata": {},
   "outputs": [],
   "source": [
    "R = sum([rt_1[i] * rt_2[i] for i in range(len(rt_1))])"
   ]
  },
  {
   "cell_type": "code",
   "execution_count": 10,
   "id": "e52bf4a7-995b-4960-9f97-975c5da41d7d",
   "metadata": {},
   "outputs": [
    {
     "data": {
      "text/plain": [
       "1.3682846597925124e-05"
      ]
     },
     "execution_count": 10,
     "metadata": {},
     "output_type": "execute_result"
    }
   ],
   "source": [
    "R / (cipla.count() - 1)"
   ]
  },
  {
   "cell_type": "code",
   "execution_count": 11,
   "id": "26592964-a9f3-4335-9e93-96f424941464",
   "metadata": {},
   "outputs": [
    {
     "data": {
      "text/plain": [
       "array([[2.28263361e-04, 1.37940893e-05],\n",
       "       [1.37940893e-05, 1.75670834e-04]])"
      ]
     },
     "execution_count": 11,
     "metadata": {},
     "output_type": "execute_result"
    }
   ],
   "source": [
    "np.cov(reliance_rt,cipla_rt)"
   ]
  },
  {
   "cell_type": "code",
   "execution_count": 12,
   "id": "9bf4cf2a-dd16-4885-90e1-c0a81c3c3386",
   "metadata": {},
   "outputs": [],
   "source": [
    "C =np.corrcoef(reliance_rt,cipla_rt)"
   ]
  },
  {
   "cell_type": "code",
   "execution_count": 13,
   "id": "8a1029b4-2e61-4971-b5ad-d4708f17e992",
   "metadata": {},
   "outputs": [],
   "source": [
    "sd = np.array([np.std(reliance_rt),np.std(cipla_rt)])"
   ]
  },
  {
   "cell_type": "code",
   "execution_count": 14,
   "id": "e815bbdd-e566-4b5b-8988-69025f3b2173",
   "metadata": {},
   "outputs": [],
   "source": [
    "a, b = sd[0]* 0.75, sd[1] * 0.25"
   ]
  },
  {
   "cell_type": "code",
   "execution_count": 16,
   "id": "21101a62-03e4-434d-bcb9-6671b9b5ac4a",
   "metadata": {},
   "outputs": [],
   "source": [
    "wt_sd = np.array([a,b])"
   ]
  },
  {
   "cell_type": "code",
   "execution_count": 17,
   "id": "08c9eb12-8341-4c33-b388-ef808f5169b0",
   "metadata": {},
   "outputs": [
    {
     "data": {
      "text/plain": [
       "(2,)"
      ]
     },
     "execution_count": 17,
     "metadata": {},
     "output_type": "execute_result"
    }
   ],
   "source": [
    "wt_sd.shape"
   ]
  },
  {
   "cell_type": "code",
   "execution_count": 18,
   "id": "714c92d0-6b8f-4dea-9f0f-32bcd9c7b267",
   "metadata": {},
   "outputs": [
    {
     "data": {
      "text/plain": [
       "0.011974331829251462"
      ]
     },
     "execution_count": 18,
     "metadata": {},
     "output_type": "execute_result"
    }
   ],
   "source": [
    "temp =np.matmul(wt_sd.T,C)\n",
    "math.sqrt(np.matmul(temp,wt_sd))"
   ]
  },
  {
   "cell_type": "code",
   "execution_count": 19,
   "id": "0822b5ad-e060-4a0d-a985-e286f242cc71",
   "metadata": {},
   "outputs": [
    {
     "data": {
      "text/plain": [
       "0.011974331829251462"
      ]
     },
     "execution_count": 19,
     "metadata": {},
     "output_type": "execute_result"
    }
   ],
   "source": [
    "math.sqrt(multi_dot([wt_sd.T,C,wt_sd]))"
   ]
  },
  {
   "cell_type": "markdown",
   "id": "3bbae641-5d52-4f7f-9642-25ede690d0d6",
   "metadata": {},
   "source": [
    "<h1>Till now we have computed the portfolio variance using the definition and some builtin methods, let us now do the same thing a lot cleaner and with lot less code </h1>"
   ]
  },
  {
   "cell_type": "code",
   "execution_count": 20,
   "id": "2658ae9c-d173-466f-94aa-c641e9eff4e3",
   "metadata": {},
   "outputs": [],
   "source": [
    "cipla = pd.read_csv('CIPLA.NS.csv')\n",
    "cipla = cipla['Close']\n",
    "reliance = pd.read_csv('RELIANCE.NS.csv')\n",
    "reliance = reliance['Close']"
   ]
  },
  {
   "cell_type": "code",
   "execution_count": 21,
   "id": "decd3dc1-6fb0-4043-abb0-38cd6a209eae",
   "metadata": {},
   "outputs": [],
   "source": [
    "cc = cipla.pct_change(1).fillna(0)\n",
    "rc = reliance.pct_change(1).fillna(0)"
   ]
  },
  {
   "cell_type": "code",
   "execution_count": 22,
   "id": "2a7e0fa2-433f-465f-ad45-d6841b80fa08",
   "metadata": {},
   "outputs": [],
   "source": [
    "\"\"\"\n",
    "C is the matrix of correlation coefficients\n",
    "sd is the array of standard deviations of the daily returns of the stocks in the portfolio\n",
    "wt are the weights that represent the % of a security in the portfolio\n",
    "wt_sd is the weighted standard deviation matrix\n",
    "\n",
    "All the above numpy arrays are to be considered as matrices to then compute the portfolio variance\n",
    "\"\"\"\n",
    "C = np.corrcoef(cc,rc)\n",
    "sd = np.array([np.std(cc),np.std(rc)])\n",
    "wt = np.array([0.25,0.75])\n",
    "wt_sd = np.multiply(wt,sd)"
   ]
  },
  {
   "cell_type": "code",
   "execution_count": 23,
   "id": "cb3f8295-cfb5-4755-9432-9b9f46128485",
   "metadata": {},
   "outputs": [
    {
     "data": {
      "text/plain": [
       "0.01197701296633125"
      ]
     },
     "execution_count": 23,
     "metadata": {},
     "output_type": "execute_result"
    }
   ],
   "source": [
    "math.sqrt(multi_dot([wt_sd.T,C,wt_sd]))"
   ]
  }
 ],
 "metadata": {
  "kernelspec": {
   "display_name": "Python 3 (ipykernel)",
   "language": "python",
   "name": "python3"
  },
  "language_info": {
   "codemirror_mode": {
    "name": "ipython",
    "version": 3
   },
   "file_extension": ".py",
   "mimetype": "text/x-python",
   "name": "python",
   "nbconvert_exporter": "python",
   "pygments_lexer": "ipython3",
   "version": "3.8.0"
  }
 },
 "nbformat": 4,
 "nbformat_minor": 5
}
