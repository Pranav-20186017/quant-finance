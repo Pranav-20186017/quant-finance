{
 "cells": [
  {
   "cell_type": "code",
   "execution_count": 63,
   "id": "d10c4748-1334-454d-a77a-b17f74d72457",
   "metadata": {},
   "outputs": [],
   "source": [
    "import pandas as pd\n",
    "import matplotlib.pyplot as plt\n",
    "import numpy as np\n",
    "from statistics import mean\n",
    "import statistics\n",
    "import math\n",
    "from numpy.linalg import multi_dot"
   ]
  },
  {
   "cell_type": "code",
   "execution_count": null,
   "id": "299d0c65-e89f-4ad6-8d7b-b8b640947b77",
   "metadata": {},
   "outputs": [],
   "source": [
    "cipla = pd.read_csv('CIPLA.NS.csv')\n",
    "cipla = cipla['Close']\n",
    "reliance = pd.read_csv('RELIANCE.NS.csv')\n",
    "reliance = reliance['Close']\n",
    "cipla,reliance"
   ]
  },
  {
   "cell_type": "code",
   "execution_count": 18,
   "id": "264b1a61-7177-47d8-b1ba-77cfd680dab7",
   "metadata": {},
   "outputs": [],
   "source": [
    "cipla_rt = []\n",
    "for k in range(cipla.count() - 1):\n",
    "    if k == 0:\n",
    "        cipla_rt.append(0)\n",
    "    else:\n",
    "        diff = (cipla[k] / cipla[k - 1]) - 1\n",
    "        cipla_rt.append(diff)"
   ]
  },
  {
   "cell_type": "code",
   "execution_count": null,
   "id": "64a92183-e7ef-4471-ab7b-6c3383e17667",
   "metadata": {},
   "outputs": [],
   "source": [
    "cipla_rt"
   ]
  },
  {
   "cell_type": "code",
   "execution_count": 20,
   "id": "1fa90bcc-7155-42ed-b20e-d37e8c7da17e",
   "metadata": {},
   "outputs": [],
   "source": [
    "reliance_rt = []\n",
    "for k in range(reliance.count() - 1):\n",
    "    if k == 0:\n",
    "        reliance_rt.append(0)\n",
    "    else:\n",
    "        reliance_rt.append( (reliance[k] / reliance[k - 1]) - 1)"
   ]
  },
  {
   "cell_type": "code",
   "execution_count": 21,
   "id": "897c6c5a-433a-4d36-8126-6ec255537aa3",
   "metadata": {},
   "outputs": [],
   "source": [
    "avg_cip = mean(cipla_rt)\n",
    "avg_rel = mean(reliance_rt)"
   ]
  },
  {
   "cell_type": "code",
   "execution_count": 22,
   "id": "fec5d5cf-4e5a-43aa-aac1-21eb3e583e5b",
   "metadata": {},
   "outputs": [],
   "source": [
    "rt_1 = [x- avg_cip for x in cipla_rt]\n",
    "rt_2 = [x - avg_rel for x in reliance_rt]"
   ]
  },
  {
   "cell_type": "code",
   "execution_count": 23,
   "id": "80b7dd86-5baa-44fb-a7aa-872772df5e80",
   "metadata": {},
   "outputs": [],
   "source": [
    "R = sum([rt_1[i] * rt_2[i] for i in range(len(rt_1))])"
   ]
  },
  {
   "cell_type": "code",
   "execution_count": 24,
   "id": "e52bf4a7-995b-4960-9f97-975c5da41d7d",
   "metadata": {},
   "outputs": [
    {
     "data": {
      "text/plain": [
       "1.3682846597925124e-05"
      ]
     },
     "execution_count": 24,
     "metadata": {},
     "output_type": "execute_result"
    }
   ],
   "source": [
    "R / (cipla.count() - 1)"
   ]
  },
  {
   "cell_type": "code",
   "execution_count": 25,
   "id": "26592964-a9f3-4335-9e93-96f424941464",
   "metadata": {},
   "outputs": [
    {
     "data": {
      "text/plain": [
       "array([[2.28263361e-04, 1.37940893e-05],\n",
       "       [1.37940893e-05, 1.75670834e-04]])"
      ]
     },
     "execution_count": 25,
     "metadata": {},
     "output_type": "execute_result"
    }
   ],
   "source": [
    "np.cov(reliance_rt,cipla_rt)"
   ]
  },
  {
   "cell_type": "code",
   "execution_count": 26,
   "id": "9bf4cf2a-dd16-4885-90e1-c0a81c3c3386",
   "metadata": {},
   "outputs": [],
   "source": [
    "C =np.corrcoef(reliance_rt,cipla_rt)"
   ]
  },
  {
   "cell_type": "code",
   "execution_count": null,
   "id": "8a1029b4-2e61-4971-b5ad-d4708f17e992",
   "metadata": {},
   "outputs": [],
   "source": [
    "sd = np.array([np.std(reliance_rt),np.std(cipla_rt)])"
   ]
  },
  {
   "cell_type": "code",
   "execution_count": null,
   "id": "e815bbdd-e566-4b5b-8988-69025f3b2173",
   "metadata": {},
   "outputs": [],
   "source": [
    "a, b = sd[0]* 0.75, sd[1] * 0.25"
   ]
  },
  {
   "cell_type": "code",
   "execution_count": null,
   "id": "21101a62-03e4-434d-bcb9-6671b9b5ac4a",
   "metadata": {},
   "outputs": [],
   "source": [
    "wt_sd = np.array([a,b])"
   ]
  },
  {
   "cell_type": "code",
   "execution_count": null,
   "id": "08c9eb12-8341-4c33-b388-ef808f5169b0",
   "metadata": {},
   "outputs": [],
   "source": [
    "wt_sd.shape"
   ]
  },
  {
   "cell_type": "code",
   "execution_count": 60,
   "id": "714c92d0-6b8f-4dea-9f0f-32bcd9c7b267",
   "metadata": {},
   "outputs": [
    {
     "data": {
      "text/plain": [
       "0.01197701296633125"
      ]
     },
     "execution_count": 60,
     "metadata": {},
     "output_type": "execute_result"
    }
   ],
   "source": [
    "temp =np.matmul(wt_sd.T,C)\n",
    "math.sqrt(np.matmul(temp,wt_sd))"
   ]
  },
  {
   "cell_type": "code",
   "execution_count": 61,
   "id": "0822b5ad-e060-4a0d-a985-e286f242cc71",
   "metadata": {},
   "outputs": [
    {
     "data": {
      "text/plain": [
       "0.01197701296633125"
      ]
     },
     "execution_count": 61,
     "metadata": {},
     "output_type": "execute_result"
    }
   ],
   "source": [
    "math.sqrt(multi_dot([wt_sd.T,C,wt_sd]))"
   ]
  },
  {
   "cell_type": "markdown",
   "id": "3bbae641-5d52-4f7f-9642-25ede690d0d6",
   "metadata": {},
   "source": [
    "<h1>Till now we have computed the portfolio variance using the definition and some builtin methods, let us now do the same thing a lot cleaner and with lot less code </h1>"
   ]
  },
  {
   "cell_type": "code",
   "execution_count": 70,
   "id": "2658ae9c-d173-466f-94aa-c641e9eff4e3",
   "metadata": {},
   "outputs": [],
   "source": [
    "cipla = pd.read_csv('CIPLA.NS.csv')\n",
    "cipla = cipla['Close']\n",
    "reliance = pd.read_csv('RELIANCE.NS.csv')\n",
    "reliance = reliance['Close']"
   ]
  },
  {
   "cell_type": "code",
   "execution_count": 71,
   "id": "decd3dc1-6fb0-4043-abb0-38cd6a209eae",
   "metadata": {},
   "outputs": [],
   "source": [
    "cc = cipla.pct_change(1).fillna(0)\n",
    "rc = reliance.pct_change(1).fillna(0)"
   ]
  },
  {
   "cell_type": "code",
   "execution_count": 74,
   "id": "2a7e0fa2-433f-465f-ad45-d6841b80fa08",
   "metadata": {},
   "outputs": [],
   "source": [
    "\"\"\"\n",
    "C is the matrix of correlation coefficients\n",
    "sd is the array of standard deviations of the daily returns of the stocks in the portfolio\n",
    "wt are the weights that represent the % of a security in the portfolio\n",
    "wt_sd is the weighted standard deviation matrix\n",
    "\n",
    "All the above numpy arrays are to be considered as matrices to then compute the portfolio variance\n",
    "\"\"\"\n",
    "C = np.corrcoef(cc,rc)\n",
    "sd = np.array([np.std(cc),np.std(rc)])\n",
    "wt = np.array([0.25,0.75])\n",
    "wt_sd = np.multiply(wt,sd)"
   ]
  },
  {
   "cell_type": "code",
   "execution_count": 73,
   "id": "cb3f8295-cfb5-4755-9432-9b9f46128485",
   "metadata": {},
   "outputs": [
    {
     "data": {
      "text/plain": [
       "0.01197701296633125"
      ]
     },
     "execution_count": 73,
     "metadata": {},
     "output_type": "execute_result"
    }
   ],
   "source": [
    "math.sqrt(multi_dot([wt_sd.T,C,wt_sd]))"
   ]
  }
 ],
 "metadata": {
  "kernelspec": {
   "display_name": "Python 3 (ipykernel)",
   "language": "python",
   "name": "python3"
  },
  "language_info": {
   "codemirror_mode": {
    "name": "ipython",
    "version": 3
   },
   "file_extension": ".py",
   "mimetype": "text/x-python",
   "name": "python",
   "nbconvert_exporter": "python",
   "pygments_lexer": "ipython3",
   "version": "3.8.0"
  }
 },
 "nbformat": 4,
 "nbformat_minor": 5
}
