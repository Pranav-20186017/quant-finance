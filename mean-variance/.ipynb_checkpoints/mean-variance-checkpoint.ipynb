{
 "cells": [
  {
   "cell_type": "code",
   "execution_count": 53,
   "id": "d10c4748-1334-454d-a77a-b17f74d72457",
   "metadata": {},
   "outputs": [],
   "source": [
    "import pandas as pd\n",
    "import matplotlib.pyplot as plt\n",
    "import numpy as np\n",
    "from statistics import mean"
   ]
  },
  {
   "cell_type": "code",
   "execution_count": 5,
   "id": "299d0c65-e89f-4ad6-8d7b-b8b640947b77",
   "metadata": {},
   "outputs": [
    {
     "data": {
      "text/plain": [
       "(0       962.950012\n",
       " 1       971.950012\n",
       " 2       966.799988\n",
       " 3       954.750000\n",
       " 4       964.700012\n",
       "           ...     \n",
       " 120    1124.900024\n",
       " 121    1114.349976\n",
       " 122    1115.349976\n",
       " 123    1109.599976\n",
       " 124    1105.300049\n",
       " Name: Close, Length: 125, dtype: float64,\n",
       " 0      2724.050049\n",
       " 1      2798.750000\n",
       " 2      2714.250000\n",
       " 3      2662.899902\n",
       " 4      2628.100098\n",
       "           ...     \n",
       " 120    2723.300049\n",
       " 121    2722.149902\n",
       " 122    2682.449951\n",
       " 123    2690.199951\n",
       " 124    2650.500000\n",
       " Name: Close, Length: 125, dtype: float64)"
      ]
     },
     "execution_count": 5,
     "metadata": {},
     "output_type": "execute_result"
    }
   ],
   "source": [
    "cipla = pd.read_csv('CIPLA.NS.csv')\n",
    "cipla = cipla['Close']\n",
    "reliance = pd.read_csv('RELIANCE.NS.csv')\n",
    "reliance = reliance['Close']\n",
    "cipla,reliance"
   ]
  },
  {
   "cell_type": "code",
   "execution_count": 44,
   "id": "264b1a61-7177-47d8-b1ba-77cfd680dab7",
   "metadata": {},
   "outputs": [],
   "source": [
    "cipla_rt = []\n",
    "for k in range(cipla.count() - 1):\n",
    "    if k == 0:\n",
    "        cipla_rt.append(0)\n",
    "    else:\n",
    "        diff = (cipla[k] / cipla[k - 1]) - 1\n",
    "        cipla_rt.append(diff)"
   ]
  },
  {
   "cell_type": "code",
   "execution_count": 50,
   "id": "1fa90bcc-7155-42ed-b20e-d37e8c7da17e",
   "metadata": {},
   "outputs": [],
   "source": [
    "reliance_rt = []\n",
    "for k in range(reliance.count() - 1):\n",
    "    if k == 0:\n",
    "        reliance_rt.append(0)\n",
    "    else:\n",
    "        reliance_rt.append( (reliance[k] / reliance[k - 1]) - 1)"
   ]
  },
  {
   "cell_type": "code",
   "execution_count": 54,
   "id": "897c6c5a-433a-4d36-8126-6ec255537aa3",
   "metadata": {},
   "outputs": [],
   "source": [
    "avg_cip = mean(cipla_rt)\n",
    "avg_rel = mean(reliance_rt)"
   ]
  },
  {
   "cell_type": "code",
   "execution_count": 68,
   "id": "fec5d5cf-4e5a-43aa-aac1-21eb3e583e5b",
   "metadata": {},
   "outputs": [],
   "source": [
    "rt_1 = [x- avg_cip for x in cipla_rt]\n",
    "rt_2 = [x - avg_rel for x in reliance_rt]"
   ]
  },
  {
   "cell_type": "code",
   "execution_count": 70,
   "id": "80b7dd86-5baa-44fb-a7aa-872772df5e80",
   "metadata": {},
   "outputs": [],
   "source": [
    "R = sum([rt_1[i] * rt_2[i] for i in range(len(rt_1))])"
   ]
  },
  {
   "cell_type": "code",
   "execution_count": 71,
   "id": "e52bf4a7-995b-4960-9f97-975c5da41d7d",
   "metadata": {},
   "outputs": [
    {
     "data": {
      "text/plain": [
       "1.3573383825141724e-05"
      ]
     },
     "execution_count": 71,
     "metadata": {},
     "output_type": "execute_result"
    }
   ],
   "source": [
    "R / cipla.count()"
   ]
  }
 ],
 "metadata": {
  "kernelspec": {
   "display_name": "Python 3 (ipykernel)",
   "language": "python",
   "name": "python3"
  },
  "language_info": {
   "codemirror_mode": {
    "name": "ipython",
    "version": 3
   },
   "file_extension": ".py",
   "mimetype": "text/x-python",
   "name": "python",
   "nbconvert_exporter": "python",
   "pygments_lexer": "ipython3",
   "version": "3.8.0"
  }
 },
 "nbformat": 4,
 "nbformat_minor": 5
}
