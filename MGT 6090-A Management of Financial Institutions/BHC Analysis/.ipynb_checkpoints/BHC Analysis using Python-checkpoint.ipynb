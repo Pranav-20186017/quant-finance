{
 "cells": [
  {
   "cell_type": "code",
   "execution_count": 3,
   "id": "c5e43a41-8095-4e17-8e17-7cfc602cf780",
   "metadata": {},
   "outputs": [],
   "source": [
    "import pandas as pd\n",
    "import numpy as np\n",
    "import matplotlib.pyplot as plt"
   ]
  },
  {
   "cell_type": "markdown",
   "id": "70343aae-45e5-42e7-9cd7-c8da716c55b6",
   "metadata": {},
   "source": [
    "## Picking the random number to pick the bank to analyze"
   ]
  },
  {
   "cell_type": "code",
   "execution_count": 15,
   "id": "084f2df6-cc9c-4d9f-9ac7-1bff47a67bfa",
   "metadata": {},
   "outputs": [
    {
     "data": {
      "text/plain": [
       "2"
      ]
     },
     "execution_count": 15,
     "metadata": {},
     "output_type": "execute_result"
    }
   ],
   "source": [
    "import random\n",
    "# Setting a random seed for reproducibility\n",
    "gtid = 903835492\n",
    "random.seed(gtid)\n",
    "# Generating a random number between 1 and 25\n",
    "random_number = random.randint(1, 25)\n",
    "random_number\n"
   ]
  },
  {
   "cell_type": "markdown",
   "id": "affcd8ce-fa75-4b8d-90cd-83929c4513aa",
   "metadata": {},
   "source": [
    "<h3> Number 2 referes to Bank of America which we will be Analyzing going forward </h3>"
   ]
  },
  {
   "cell_type": "markdown",
   "id": "b505df0f-2325-4e57-b989-7f3c71d72358",
   "metadata": {},
   "source": [
    "## Note: Please refer to the scrape.py script attached to this assignment it has code for scraping yahoo finance using selenium "
   ]
  },
  {
   "cell_type": "markdown",
   "id": "423ff67b-51af-4978-adf0-84f07725f710",
   "metadata": {},
   "source": [
    "## Institutional Holding"
   ]
  },
  {
   "cell_type": "code",
   "execution_count": 59,
   "id": "490790d6-0b28-49c9-aa63-f7bc84bcc018",
   "metadata": {},
   "outputs": [
    {
     "data": {
      "text/html": [
       "<div>\n",
       "<style scoped>\n",
       "    .dataframe tbody tr th:only-of-type {\n",
       "        vertical-align: middle;\n",
       "    }\n",
       "\n",
       "    .dataframe tbody tr th {\n",
       "        vertical-align: top;\n",
       "    }\n",
       "\n",
       "    .dataframe thead th {\n",
       "        text-align: right;\n",
       "    }\n",
       "</style>\n",
       "<table border=\"1\" class=\"dataframe\">\n",
       "  <thead>\n",
       "    <tr style=\"text-align: right;\">\n",
       "      <th></th>\n",
       "      <th>Holder</th>\n",
       "      <th>Shares</th>\n",
       "      <th>Date Reported</th>\n",
       "      <th>% Out</th>\n",
       "      <th>Value</th>\n",
       "    </tr>\n",
       "  </thead>\n",
       "  <tbody>\n",
       "    <tr>\n",
       "      <th>0</th>\n",
       "      <td>Berkshire Hathaway, Inc</td>\n",
       "      <td>1032852006</td>\n",
       "      <td>2023-06-29</td>\n",
       "      <td>0.1305</td>\n",
       "      <td>28610001354</td>\n",
       "    </tr>\n",
       "    <tr>\n",
       "      <th>1</th>\n",
       "      <td>Vanguard Group Inc</td>\n",
       "      <td>609510482</td>\n",
       "      <td>2023-06-29</td>\n",
       "      <td>0.0770</td>\n",
       "      <td>16883440816</td>\n",
       "    </tr>\n",
       "    <tr>\n",
       "      <th>2</th>\n",
       "      <td>Blackrock Inc.</td>\n",
       "      <td>475294291</td>\n",
       "      <td>2023-06-29</td>\n",
       "      <td>0.0601</td>\n",
       "      <td>13165652223</td>\n",
       "    </tr>\n",
       "    <tr>\n",
       "      <th>3</th>\n",
       "      <td>State Street Corporation</td>\n",
       "      <td>286796797</td>\n",
       "      <td>2023-06-29</td>\n",
       "      <td>0.0362</td>\n",
       "      <td>7944271495</td>\n",
       "    </tr>\n",
       "    <tr>\n",
       "      <th>4</th>\n",
       "      <td>FMR, LLC</td>\n",
       "      <td>206490756</td>\n",
       "      <td>2023-06-29</td>\n",
       "      <td>0.0261</td>\n",
       "      <td>5719794098</td>\n",
       "    </tr>\n",
       "    <tr>\n",
       "      <th>5</th>\n",
       "      <td>JP Morgan Chase &amp; Company</td>\n",
       "      <td>149382081</td>\n",
       "      <td>2023-06-29</td>\n",
       "      <td>0.0189</td>\n",
       "      <td>4137883757</td>\n",
       "    </tr>\n",
       "    <tr>\n",
       "      <th>6</th>\n",
       "      <td>Geode Capital Management, LLC</td>\n",
       "      <td>127236515</td>\n",
       "      <td>2023-06-29</td>\n",
       "      <td>0.0161</td>\n",
       "      <td>3524451562</td>\n",
       "    </tr>\n",
       "    <tr>\n",
       "      <th>7</th>\n",
       "      <td>Morgan Stanley</td>\n",
       "      <td>112299216</td>\n",
       "      <td>2023-06-29</td>\n",
       "      <td>0.0142</td>\n",
       "      <td>3110688368</td>\n",
       "    </tr>\n",
       "    <tr>\n",
       "      <th>8</th>\n",
       "      <td>Price (T.Rowe) Associates Inc</td>\n",
       "      <td>106624795</td>\n",
       "      <td>2023-06-29</td>\n",
       "      <td>0.0135</td>\n",
       "      <td>2953506902</td>\n",
       "    </tr>\n",
       "    <tr>\n",
       "      <th>9</th>\n",
       "      <td>Norges Bank Investment Management</td>\n",
       "      <td>103760365</td>\n",
       "      <td>2022-12-30</td>\n",
       "      <td>0.0131</td>\n",
       "      <td>2874162189</td>\n",
       "    </tr>\n",
       "  </tbody>\n",
       "</table>\n",
       "</div>"
      ],
      "text/plain": [
       "                              Holder      Shares Date Reported   % Out  \\\n",
       "0            Berkshire Hathaway, Inc  1032852006    2023-06-29  0.1305   \n",
       "1                 Vanguard Group Inc   609510482    2023-06-29  0.0770   \n",
       "2                     Blackrock Inc.   475294291    2023-06-29  0.0601   \n",
       "3           State Street Corporation   286796797    2023-06-29  0.0362   \n",
       "4                           FMR, LLC   206490756    2023-06-29  0.0261   \n",
       "5          JP Morgan Chase & Company   149382081    2023-06-29  0.0189   \n",
       "6      Geode Capital Management, LLC   127236515    2023-06-29  0.0161   \n",
       "7                     Morgan Stanley   112299216    2023-06-29  0.0142   \n",
       "8      Price (T.Rowe) Associates Inc   106624795    2023-06-29  0.0135   \n",
       "9  Norges Bank Investment Management   103760365    2022-12-30  0.0131   \n",
       "\n",
       "         Value  \n",
       "0  28610001354  \n",
       "1  16883440816  \n",
       "2  13165652223  \n",
       "3   7944271495  \n",
       "4   5719794098  \n",
       "5   4137883757  \n",
       "6   3524451562  \n",
       "7   3110688368  \n",
       "8   2953506902  \n",
       "9   2874162189  "
      ]
     },
     "execution_count": 59,
     "metadata": {},
     "output_type": "execute_result"
    }
   ],
   "source": [
    "import yfinance as yf\n",
    "\n",
    "# Create a ticker object\n",
    "ticker = yf.Ticker(\"BAC\")\n",
    "\n",
    "# Get institutional holders\n",
    "institutional_holders = ticker.get_institutional_holders()\n",
    "institutional_holders.head(20)"
   ]
  },
  {
   "cell_type": "markdown",
   "id": "778b3d0e-f74d-4159-9b0e-5d368c7c7432",
   "metadata": {},
   "source": [
    "## Mutual Fund Holders"
   ]
  },
  {
   "cell_type": "code",
   "execution_count": 65,
   "id": "805592af-05e5-49b0-ac00-7c9e5de87e2a",
   "metadata": {},
   "outputs": [
    {
     "data": {
      "text/html": [
       "<div>\n",
       "<style scoped>\n",
       "    .dataframe tbody tr th:only-of-type {\n",
       "        vertical-align: middle;\n",
       "    }\n",
       "\n",
       "    .dataframe tbody tr th {\n",
       "        vertical-align: top;\n",
       "    }\n",
       "\n",
       "    .dataframe thead th {\n",
       "        text-align: right;\n",
       "    }\n",
       "</style>\n",
       "<table border=\"1\" class=\"dataframe\">\n",
       "  <thead>\n",
       "    <tr style=\"text-align: right;\">\n",
       "      <th></th>\n",
       "      <th>Holder</th>\n",
       "      <th>Shares</th>\n",
       "      <th>Date Reported</th>\n",
       "      <th>% Out</th>\n",
       "      <th>Value</th>\n",
       "    </tr>\n",
       "  </thead>\n",
       "  <tbody>\n",
       "    <tr>\n",
       "      <th>0</th>\n",
       "      <td>Vanguard Total Stock Market Index Fund</td>\n",
       "      <td>211142103</td>\n",
       "      <td>2023-06-29</td>\n",
       "      <td>0.0267</td>\n",
       "      <td>5848636414</td>\n",
       "    </tr>\n",
       "    <tr>\n",
       "      <th>1</th>\n",
       "      <td>Vanguard 500 Index Fund</td>\n",
       "      <td>165076337</td>\n",
       "      <td>2023-06-29</td>\n",
       "      <td>0.0209</td>\n",
       "      <td>4572614660</td>\n",
       "    </tr>\n",
       "    <tr>\n",
       "      <th>2</th>\n",
       "      <td>Fidelity 500 Index Fund</td>\n",
       "      <td>79427248</td>\n",
       "      <td>2023-08-30</td>\n",
       "      <td>0.0100</td>\n",
       "      <td>2200134830</td>\n",
       "    </tr>\n",
       "    <tr>\n",
       "      <th>3</th>\n",
       "      <td>SPDR S&amp;P 500 ETF Trust</td>\n",
       "      <td>77721248</td>\n",
       "      <td>2023-09-29</td>\n",
       "      <td>0.0098</td>\n",
       "      <td>2152878628</td>\n",
       "    </tr>\n",
       "    <tr>\n",
       "      <th>4</th>\n",
       "      <td>iShares Core S&amp;P 500 ETF</td>\n",
       "      <td>65380887</td>\n",
       "      <td>2023-09-29</td>\n",
       "      <td>0.0083</td>\n",
       "      <td>1811050619</td>\n",
       "    </tr>\n",
       "    <tr>\n",
       "      <th>5</th>\n",
       "      <td>Vanguard Index-Value Index Fund</td>\n",
       "      <td>58850537</td>\n",
       "      <td>2023-06-29</td>\n",
       "      <td>0.0074</td>\n",
       "      <td>1630159919</td>\n",
       "    </tr>\n",
       "    <tr>\n",
       "      <th>6</th>\n",
       "      <td>Vanguard Institutional Index Fund-Institutiona...</td>\n",
       "      <td>47328664</td>\n",
       "      <td>2023-06-29</td>\n",
       "      <td>0.0060</td>\n",
       "      <td>1311004028</td>\n",
       "    </tr>\n",
       "    <tr>\n",
       "      <th>7</th>\n",
       "      <td>Select Sector SPDR Fund-Financial</td>\n",
       "      <td>45859314</td>\n",
       "      <td>2023-09-29</td>\n",
       "      <td>0.0058</td>\n",
       "      <td>1270303032</td>\n",
       "    </tr>\n",
       "    <tr>\n",
       "      <th>8</th>\n",
       "      <td>Vanguard Whitehall Funds-High Dividend Yield I...</td>\n",
       "      <td>31372356</td>\n",
       "      <td>2023-07-30</td>\n",
       "      <td>0.0040</td>\n",
       "      <td>869014285</td>\n",
       "    </tr>\n",
       "    <tr>\n",
       "      <th>9</th>\n",
       "      <td>Dodge &amp; Cox Stock Fund</td>\n",
       "      <td>28999900</td>\n",
       "      <td>2023-06-29</td>\n",
       "      <td>0.0037</td>\n",
       "      <td>803297252</td>\n",
       "    </tr>\n",
       "  </tbody>\n",
       "</table>\n",
       "</div>"
      ],
      "text/plain": [
       "                                              Holder     Shares Date Reported  \\\n",
       "0             Vanguard Total Stock Market Index Fund  211142103    2023-06-29   \n",
       "1                            Vanguard 500 Index Fund  165076337    2023-06-29   \n",
       "2                            Fidelity 500 Index Fund   79427248    2023-08-30   \n",
       "3                             SPDR S&P 500 ETF Trust   77721248    2023-09-29   \n",
       "4                           iShares Core S&P 500 ETF   65380887    2023-09-29   \n",
       "5                    Vanguard Index-Value Index Fund   58850537    2023-06-29   \n",
       "6  Vanguard Institutional Index Fund-Institutiona...   47328664    2023-06-29   \n",
       "7                  Select Sector SPDR Fund-Financial   45859314    2023-09-29   \n",
       "8  Vanguard Whitehall Funds-High Dividend Yield I...   31372356    2023-07-30   \n",
       "9                             Dodge & Cox Stock Fund   28999900    2023-06-29   \n",
       "\n",
       "    % Out       Value  \n",
       "0  0.0267  5848636414  \n",
       "1  0.0209  4572614660  \n",
       "2  0.0100  2200134830  \n",
       "3  0.0098  2152878628  \n",
       "4  0.0083  1811050619  \n",
       "5  0.0074  1630159919  \n",
       "6  0.0060  1311004028  \n",
       "7  0.0058  1270303032  \n",
       "8  0.0040   869014285  \n",
       "9  0.0037   803297252  "
      ]
     },
     "execution_count": 65,
     "metadata": {},
     "output_type": "execute_result"
    }
   ],
   "source": [
    "# Get mutual fund holders\n",
    "mutualfund_holders = ticker.get_mutualfund_holders()\n",
    "mutualfund_holders.head(20)"
   ]
  },
  {
   "cell_type": "markdown",
   "id": "58e1b6cb-2f3d-4bb1-96f9-82442bc86bdf",
   "metadata": {},
   "source": [
    "## Non Institutional Investors"
   ]
  },
  {
   "cell_type": "code",
   "execution_count": 64,
   "id": "731b6127-6f04-41a6-a16b-5459135ec102",
   "metadata": {},
   "outputs": [
    {
     "name": "stdout",
     "output_type": "stream",
     "text": [
      "Non-Institutional Ownership: 49.17%\n"
     ]
    }
   ],
   "source": [
    "import yfinance as yf\n",
    "\n",
    "# Create a ticker object for the desired stock\n",
    "ticker = yf.Ticker(\"BAC\")\n",
    "\n",
    "# Get institutional holders\n",
    "institutional_holders = ticker.get_institutional_holders()\n",
    "\n",
    "# Calculate the total percentage of institutional ownership\n",
    "total_institutional_ownership = (institutional_holders['% Out'] * 100).sum() \n",
    "total_mutual_fund_ownership = (mutualfund_holders['% Out']*100).sum()\n",
    "# Calculate non-institutional ownership\n",
    "non_institutional_ownership = 100 - total_institutional_ownership - total_mutual_fund_ownership\n",
    "\n",
    "print(f\"Non-Institutional Ownership: {non_institutional_ownership}%\")\n"
   ]
  },
  {
   "cell_type": "markdown",
   "id": "4697db89-4b26-4b15-93ce-99219df73979",
   "metadata": {},
   "source": [
    "## Insider Ownership"
   ]
  },
  {
   "cell_type": "markdown",
   "id": "6c7d7dad-2524-471e-81d9-2b147818a371",
   "metadata": {},
   "source": [
    "Based on the SEC Edgar Data(Form-3 and Form-4) we have the following Details about the Insider Ownership\n",
    "The insider trading information from the SEC Form 4 for Drone USA Inc. indicates two transactions:\n",
    "\n",
    "1.  First Transaction (05/18/2018)\n",
    "\n",
    "    -   Security: Common Stock\n",
    "    -   Transaction Date: 05/18/2018\n",
    "    -   Transaction Code: P (Purchase)\n",
    "    -   Amount: 75,000 shares\n",
    "    -   Price: $0.0299 per share\n",
    "    -   Amount of Securities Beneficially Owned Following Transaction: 37,631,591 shares\n",
    "    -   Ownership Form: Direct (D)\n",
    "2.  Second Transaction (05/18/2018)\n",
    "\n",
    "    -   Security: Common Stock\n",
    "    -   Transaction Date: 05/18/2018\n",
    "    -   Transaction Code: P (Purchase)\n",
    "    -   Amount: 40,000 shares\n",
    "    -   Price: $0.0285 per share\n",
    "    -   Amount of Securities Beneficially Owned Following Transaction: 37,671,591 shares\n",
    "    -   Ownership Form: Direct (D)\n",
    "\n",
    "Both transactions are purchases of common stock by an insider, with a subsequent increase in the number of shares beneficially owned"
   ]
  },
  {
   "cell_type": "markdown",
   "id": "8a61958d-d6ef-46d1-821e-a4aeb0fd9061",
   "metadata": {},
   "source": [
    "## Insider Ownership Buy/ Sell"
   ]
  },
  {
   "cell_type": "code",
   "execution_count": 66,
   "id": "34aed570-c119-4eff-9b8e-5e02d4e9e600",
   "metadata": {},
   "outputs": [
    {
     "data": {
      "text/html": [
       "<div>\n",
       "<style scoped>\n",
       "    .dataframe tbody tr th:only-of-type {\n",
       "        vertical-align: middle;\n",
       "    }\n",
       "\n",
       "    .dataframe tbody tr th {\n",
       "        vertical-align: top;\n",
       "    }\n",
       "\n",
       "    .dataframe thead th {\n",
       "        text-align: right;\n",
       "    }\n",
       "</style>\n",
       "<table border=\"1\" class=\"dataframe\">\n",
       "  <thead>\n",
       "    <tr style=\"text-align: right;\">\n",
       "      <th></th>\n",
       "      <th>Insider Purchases Last 6 Months</th>\n",
       "      <th>Shares</th>\n",
       "      <th>Trans</th>\n",
       "    </tr>\n",
       "  </thead>\n",
       "  <tbody>\n",
       "    <tr>\n",
       "      <th>0</th>\n",
       "      <td>Purchases</td>\n",
       "      <td>478908</td>\n",
       "      <td>22.0</td>\n",
       "    </tr>\n",
       "    <tr>\n",
       "      <th>1</th>\n",
       "      <td>Sales</td>\n",
       "      <td>152806</td>\n",
       "      <td>2.0</td>\n",
       "    </tr>\n",
       "    <tr>\n",
       "      <th>2</th>\n",
       "      <td>Net Shares Purchased (Sold)</td>\n",
       "      <td>326102</td>\n",
       "      <td>24.0</td>\n",
       "    </tr>\n",
       "    <tr>\n",
       "      <th>3</th>\n",
       "      <td>Total Insider Shares Held</td>\n",
       "      <td>8.78M</td>\n",
       "      <td>NaN</td>\n",
       "    </tr>\n",
       "    <tr>\n",
       "      <th>4</th>\n",
       "      <td>% Net Shares Purchased (Sold)</td>\n",
       "      <td>0.038</td>\n",
       "      <td>NaN</td>\n",
       "    </tr>\n",
       "  </tbody>\n",
       "</table>\n",
       "</div>"
      ],
      "text/plain": [
       "  Insider Purchases Last 6 Months  Shares  Trans\n",
       "0                       Purchases  478908   22.0\n",
       "1                           Sales  152806    2.0\n",
       "2     Net Shares Purchased (Sold)  326102   24.0\n",
       "3       Total Insider Shares Held   8.78M    NaN\n",
       "4   % Net Shares Purchased (Sold)   0.038    NaN"
      ]
     },
     "execution_count": 66,
     "metadata": {},
     "output_type": "execute_result"
    }
   ],
   "source": [
    "id = pd.read_excel('insider-holding.xlsx')\n",
    "id.head()"
   ]
  },
  {
   "cell_type": "markdown",
   "id": "696b6c31-f822-449e-a18d-0586e2239f0f",
   "metadata": {},
   "source": [
    "<h4> We can clearly see the more insiders have bought more shares than sell shares as the net share trasnastions \n",
    "    is arround 326K shares which is the differnece between Shares sold and bought by investors </h4>"
   ]
  }
 ],
 "metadata": {
  "kernelspec": {
   "display_name": "Python 3 (ipykernel)",
   "language": "python",
   "name": "python3"
  },
  "language_info": {
   "codemirror_mode": {
    "name": "ipython",
    "version": 3
   },
   "file_extension": ".py",
   "mimetype": "text/x-python",
   "name": "python",
   "nbconvert_exporter": "python",
   "pygments_lexer": "ipython3",
   "version": "3.11.1"
  }
 },
 "nbformat": 4,
 "nbformat_minor": 5
}
